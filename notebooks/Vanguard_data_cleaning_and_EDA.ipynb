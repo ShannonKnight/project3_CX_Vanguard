{
 "cells": [
  {
   "cell_type": "code",
   "execution_count": 2,
   "id": "e3fb898d",
   "metadata": {},
   "outputs": [],
   "source": [
    "import pandas as pd\n",
    "import matplotlib.pyplot as plt\n",
    "import seaborn as sns\n",
    "import numpy as np\n",
    "\n",
    "#%matplotlib inline # to imbed plots in jupyter notebook"
   ]
  },
  {
   "cell_type": "code",
   "execution_count": 3,
   "id": "7645ce6d",
   "metadata": {},
   "outputs": [],
   "source": [
    "# Define file paths\n",
    "path1 = r\"C:\\Users\\ShannonKnight\\OneDrive - PPO Serve\\Documents\\ironhack\\Week 5\\project3_CX_Vanguard\\data\\raw\\df_final_demo.txt\"\n",
    "path2 = r\"C:\\Users\\ShannonKnight\\OneDrive - PPO Serve\\Documents\\ironhack\\Week 5\\project3_CX_Vanguard\\data\\raw\\df_final_experiment_clients.txt\"\n",
    "path3 = r\"C:\\Users\\ShannonKnight\\OneDrive - PPO Serve\\Documents\\ironhack\\Week 5\\project3_CX_Vanguard\\data\\raw\\df_final_web_data_pt_1.txt\"\n",
    "path4 = r\"C:\\Users\\ShannonKnight\\OneDrive - PPO Serve\\Documents\\ironhack\\Week 5\\project3_CX_Vanguard\\data\\raw\\df_final_web_data_pt_2.txt\"\n",
    "\n",
    "# Read comma-separated text files into DataFrames\n",
    "df1 = pd.read_csv(path1, delimiter=',')\n",
    "df2 = pd.read_csv(path2, delimiter=',')\n",
    "df3 = pd.read_csv(path3, delimiter=',')\n",
    "df4 = pd.read_csv(path4, delimiter=',')"
   ]
  },
  {
   "cell_type": "code",
   "execution_count": 4,
   "id": "5bd8e3c6",
   "metadata": {},
   "outputs": [],
   "source": [
    "df5 = pd.concat([df3, df4], ignore_index=True)"
   ]
  },
  {
   "cell_type": "code",
   "execution_count": 5,
   "id": "2ebbd59e",
   "metadata": {},
   "outputs": [
    {
     "data": {
      "text/html": [
       "<div>\n",
       "<style scoped>\n",
       "    .dataframe tbody tr th:only-of-type {\n",
       "        vertical-align: middle;\n",
       "    }\n",
       "\n",
       "    .dataframe tbody tr th {\n",
       "        vertical-align: top;\n",
       "    }\n",
       "\n",
       "    .dataframe thead th {\n",
       "        text-align: right;\n",
       "    }\n",
       "</style>\n",
       "<table border=\"1\" class=\"dataframe\">\n",
       "  <thead>\n",
       "    <tr style=\"text-align: right;\">\n",
       "      <th></th>\n",
       "      <th>client_id</th>\n",
       "      <th>visitor_id</th>\n",
       "      <th>visit_id</th>\n",
       "      <th>process_step</th>\n",
       "      <th>date_time</th>\n",
       "    </tr>\n",
       "  </thead>\n",
       "  <tbody>\n",
       "    <tr>\n",
       "      <th>0</th>\n",
       "      <td>9988021</td>\n",
       "      <td>580560515_7732621733</td>\n",
       "      <td>781255054_21935453173_531117</td>\n",
       "      <td>step_3</td>\n",
       "      <td>2017-04-17 15:27:07</td>\n",
       "    </tr>\n",
       "    <tr>\n",
       "      <th>1</th>\n",
       "      <td>9988021</td>\n",
       "      <td>580560515_7732621733</td>\n",
       "      <td>781255054_21935453173_531117</td>\n",
       "      <td>step_2</td>\n",
       "      <td>2017-04-17 15:26:51</td>\n",
       "    </tr>\n",
       "    <tr>\n",
       "      <th>2</th>\n",
       "      <td>9988021</td>\n",
       "      <td>580560515_7732621733</td>\n",
       "      <td>781255054_21935453173_531117</td>\n",
       "      <td>step_3</td>\n",
       "      <td>2017-04-17 15:19:22</td>\n",
       "    </tr>\n",
       "    <tr>\n",
       "      <th>3</th>\n",
       "      <td>9988021</td>\n",
       "      <td>580560515_7732621733</td>\n",
       "      <td>781255054_21935453173_531117</td>\n",
       "      <td>step_2</td>\n",
       "      <td>2017-04-17 15:19:13</td>\n",
       "    </tr>\n",
       "    <tr>\n",
       "      <th>4</th>\n",
       "      <td>9988021</td>\n",
       "      <td>580560515_7732621733</td>\n",
       "      <td>781255054_21935453173_531117</td>\n",
       "      <td>step_3</td>\n",
       "      <td>2017-04-17 15:18:04</td>\n",
       "    </tr>\n",
       "  </tbody>\n",
       "</table>\n",
       "</div>"
      ],
      "text/plain": [
       "   client_id            visitor_id                      visit_id process_step  \\\n",
       "0    9988021  580560515_7732621733  781255054_21935453173_531117       step_3   \n",
       "1    9988021  580560515_7732621733  781255054_21935453173_531117       step_2   \n",
       "2    9988021  580560515_7732621733  781255054_21935453173_531117       step_3   \n",
       "3    9988021  580560515_7732621733  781255054_21935453173_531117       step_2   \n",
       "4    9988021  580560515_7732621733  781255054_21935453173_531117       step_3   \n",
       "\n",
       "             date_time  \n",
       "0  2017-04-17 15:27:07  \n",
       "1  2017-04-17 15:26:51  \n",
       "2  2017-04-17 15:19:22  \n",
       "3  2017-04-17 15:19:13  \n",
       "4  2017-04-17 15:18:04  "
      ]
     },
     "execution_count": 5,
     "metadata": {},
     "output_type": "execute_result"
    }
   ],
   "source": [
    "df5.head()"
   ]
  },
  {
   "cell_type": "code",
   "execution_count": 6,
   "id": "f3d2e38b",
   "metadata": {},
   "outputs": [
    {
     "data": {
      "text/html": [
       "<div>\n",
       "<style scoped>\n",
       "    .dataframe tbody tr th:only-of-type {\n",
       "        vertical-align: middle;\n",
       "    }\n",
       "\n",
       "    .dataframe tbody tr th {\n",
       "        vertical-align: top;\n",
       "    }\n",
       "\n",
       "    .dataframe thead th {\n",
       "        text-align: right;\n",
       "    }\n",
       "</style>\n",
       "<table border=\"1\" class=\"dataframe\">\n",
       "  <thead>\n",
       "    <tr style=\"text-align: right;\">\n",
       "      <th></th>\n",
       "      <th>client_id</th>\n",
       "      <th>clnt_tenure_yr</th>\n",
       "      <th>clnt_tenure_mnth</th>\n",
       "      <th>clnt_age</th>\n",
       "      <th>gendr</th>\n",
       "      <th>num_accts</th>\n",
       "      <th>bal</th>\n",
       "      <th>calls_6_mnth</th>\n",
       "      <th>logons_6_mnth</th>\n",
       "    </tr>\n",
       "  </thead>\n",
       "  <tbody>\n",
       "    <tr>\n",
       "      <th>0</th>\n",
       "      <td>836976</td>\n",
       "      <td>6.0</td>\n",
       "      <td>73.0</td>\n",
       "      <td>60.5</td>\n",
       "      <td>U</td>\n",
       "      <td>2.0</td>\n",
       "      <td>45105.30</td>\n",
       "      <td>6.0</td>\n",
       "      <td>9.0</td>\n",
       "    </tr>\n",
       "    <tr>\n",
       "      <th>1</th>\n",
       "      <td>2304905</td>\n",
       "      <td>7.0</td>\n",
       "      <td>94.0</td>\n",
       "      <td>58.0</td>\n",
       "      <td>U</td>\n",
       "      <td>2.0</td>\n",
       "      <td>110860.30</td>\n",
       "      <td>6.0</td>\n",
       "      <td>9.0</td>\n",
       "    </tr>\n",
       "    <tr>\n",
       "      <th>2</th>\n",
       "      <td>1439522</td>\n",
       "      <td>5.0</td>\n",
       "      <td>64.0</td>\n",
       "      <td>32.0</td>\n",
       "      <td>U</td>\n",
       "      <td>2.0</td>\n",
       "      <td>52467.79</td>\n",
       "      <td>6.0</td>\n",
       "      <td>9.0</td>\n",
       "    </tr>\n",
       "    <tr>\n",
       "      <th>3</th>\n",
       "      <td>1562045</td>\n",
       "      <td>16.0</td>\n",
       "      <td>198.0</td>\n",
       "      <td>49.0</td>\n",
       "      <td>M</td>\n",
       "      <td>2.0</td>\n",
       "      <td>67454.65</td>\n",
       "      <td>3.0</td>\n",
       "      <td>6.0</td>\n",
       "    </tr>\n",
       "    <tr>\n",
       "      <th>4</th>\n",
       "      <td>5126305</td>\n",
       "      <td>12.0</td>\n",
       "      <td>145.0</td>\n",
       "      <td>33.0</td>\n",
       "      <td>F</td>\n",
       "      <td>2.0</td>\n",
       "      <td>103671.75</td>\n",
       "      <td>0.0</td>\n",
       "      <td>3.0</td>\n",
       "    </tr>\n",
       "  </tbody>\n",
       "</table>\n",
       "</div>"
      ],
      "text/plain": [
       "   client_id  clnt_tenure_yr  clnt_tenure_mnth  clnt_age gendr  num_accts  \\\n",
       "0     836976             6.0              73.0      60.5     U        2.0   \n",
       "1    2304905             7.0              94.0      58.0     U        2.0   \n",
       "2    1439522             5.0              64.0      32.0     U        2.0   \n",
       "3    1562045            16.0             198.0      49.0     M        2.0   \n",
       "4    5126305            12.0             145.0      33.0     F        2.0   \n",
       "\n",
       "         bal  calls_6_mnth  logons_6_mnth  \n",
       "0   45105.30           6.0            9.0  \n",
       "1  110860.30           6.0            9.0  \n",
       "2   52467.79           6.0            9.0  \n",
       "3   67454.65           3.0            6.0  \n",
       "4  103671.75           0.0            3.0  "
      ]
     },
     "execution_count": 6,
     "metadata": {},
     "output_type": "execute_result"
    }
   ],
   "source": [
    "df1.head()"
   ]
  },
  {
   "cell_type": "code",
   "execution_count": 7,
   "id": "86c331d3",
   "metadata": {},
   "outputs": [
    {
     "data": {
      "text/html": [
       "<div>\n",
       "<style scoped>\n",
       "    .dataframe tbody tr th:only-of-type {\n",
       "        vertical-align: middle;\n",
       "    }\n",
       "\n",
       "    .dataframe tbody tr th {\n",
       "        vertical-align: top;\n",
       "    }\n",
       "\n",
       "    .dataframe thead th {\n",
       "        text-align: right;\n",
       "    }\n",
       "</style>\n",
       "<table border=\"1\" class=\"dataframe\">\n",
       "  <thead>\n",
       "    <tr style=\"text-align: right;\">\n",
       "      <th></th>\n",
       "      <th>client_id</th>\n",
       "      <th>Variation</th>\n",
       "    </tr>\n",
       "  </thead>\n",
       "  <tbody>\n",
       "    <tr>\n",
       "      <th>0</th>\n",
       "      <td>9988021</td>\n",
       "      <td>Test</td>\n",
       "    </tr>\n",
       "    <tr>\n",
       "      <th>1</th>\n",
       "      <td>8320017</td>\n",
       "      <td>Test</td>\n",
       "    </tr>\n",
       "    <tr>\n",
       "      <th>2</th>\n",
       "      <td>4033851</td>\n",
       "      <td>Control</td>\n",
       "    </tr>\n",
       "    <tr>\n",
       "      <th>3</th>\n",
       "      <td>1982004</td>\n",
       "      <td>Test</td>\n",
       "    </tr>\n",
       "    <tr>\n",
       "      <th>4</th>\n",
       "      <td>9294070</td>\n",
       "      <td>Control</td>\n",
       "    </tr>\n",
       "  </tbody>\n",
       "</table>\n",
       "</div>"
      ],
      "text/plain": [
       "   client_id Variation\n",
       "0    9988021      Test\n",
       "1    8320017      Test\n",
       "2    4033851   Control\n",
       "3    1982004      Test\n",
       "4    9294070   Control"
      ]
     },
     "execution_count": 7,
     "metadata": {},
     "output_type": "execute_result"
    }
   ],
   "source": [
    "df2.head()"
   ]
  },
  {
   "cell_type": "code",
   "execution_count": 8,
   "id": "5087cde9",
   "metadata": {},
   "outputs": [
    {
     "data": {
      "text/plain": [
       "(70609, 9)"
      ]
     },
     "execution_count": 8,
     "metadata": {},
     "output_type": "execute_result"
    }
   ],
   "source": [
    "df1.shape"
   ]
  },
  {
   "cell_type": "code",
   "execution_count": 9,
   "id": "f0432425",
   "metadata": {},
   "outputs": [
    {
     "data": {
      "text/plain": [
       "client_id            0\n",
       "clnt_tenure_yr      14\n",
       "clnt_tenure_mnth    14\n",
       "clnt_age            15\n",
       "gendr               14\n",
       "num_accts           14\n",
       "bal                 14\n",
       "calls_6_mnth        14\n",
       "logons_6_mnth       14\n",
       "dtype: int64"
      ]
     },
     "execution_count": 9,
     "metadata": {},
     "output_type": "execute_result"
    }
   ],
   "source": [
    "df1.isnull().sum()"
   ]
  },
  {
   "cell_type": "code",
   "execution_count": 10,
   "id": "2f3bb67b",
   "metadata": {},
   "outputs": [
    {
     "data": {
      "text/plain": [
       "(70609, 2)"
      ]
     },
     "execution_count": 10,
     "metadata": {},
     "output_type": "execute_result"
    }
   ],
   "source": [
    "df2.shape"
   ]
  },
  {
   "cell_type": "code",
   "execution_count": 11,
   "id": "3bf1ca6c",
   "metadata": {},
   "outputs": [
    {
     "data": {
      "text/plain": [
       "client_id        0\n",
       "Variation    20109\n",
       "dtype: int64"
      ]
     },
     "execution_count": 11,
     "metadata": {},
     "output_type": "execute_result"
    }
   ],
   "source": [
    "df2.isnull().sum()"
   ]
  },
  {
   "cell_type": "code",
   "execution_count": 12,
   "id": "e851dd11",
   "metadata": {},
   "outputs": [
    {
     "data": {
      "text/plain": [
       "(755405, 5)"
      ]
     },
     "execution_count": 12,
     "metadata": {},
     "output_type": "execute_result"
    }
   ],
   "source": [
    "df5.shape"
   ]
  },
  {
   "cell_type": "code",
   "execution_count": 13,
   "id": "62c07c85",
   "metadata": {},
   "outputs": [
    {
     "data": {
      "text/plain": [
       "client_id       0\n",
       "visitor_id      0\n",
       "visit_id        0\n",
       "process_step    0\n",
       "date_time       0\n",
       "dtype: int64"
      ]
     },
     "execution_count": 13,
     "metadata": {},
     "output_type": "execute_result"
    }
   ],
   "source": [
    "df5.isnull().sum()"
   ]
  },
  {
   "cell_type": "code",
   "execution_count": 14,
   "id": "ede9c41f",
   "metadata": {},
   "outputs": [
    {
     "data": {
      "text/plain": [
       "Variation\n",
       "Test       26968\n",
       "Control    23532\n",
       "Name: count, dtype: int64"
      ]
     },
     "execution_count": 14,
     "metadata": {},
     "output_type": "execute_result"
    }
   ],
   "source": [
    "df2[\"Variation\"].value_counts()"
   ]
  },
  {
   "cell_type": "code",
   "execution_count": 15,
   "id": "3c4308fc",
   "metadata": {},
   "outputs": [
    {
     "name": "stderr",
     "output_type": "stream",
     "text": [
      "C:\\Users\\ShannonKnight\\AppData\\Local\\Temp\\ipykernel_10004\\420803814.py:3: FutureWarning: A value is trying to be set on a copy of a DataFrame or Series through chained assignment using an inplace method.\n",
      "The behavior will change in pandas 3.0. This inplace method will never work because the intermediate object on which we are setting values always behaves as a copy.\n",
      "\n",
      "For example, when doing 'df[col].method(value, inplace=True)', try using 'df.method({col: value}, inplace=True)' or df[col] = df[col].method(value) instead, to perform the operation inplace on the original object.\n",
      "\n",
      "\n",
      "  df2[\"Variation\"].fillna(\"Not part of UX\", inplace=True)\n"
     ]
    }
   ],
   "source": [
    "# replace nulls with descriptor in df2 - in case we want to compare experiment group with general population in our analysis\n",
    "\n",
    "df2[\"Variation\"].fillna(\"Not part of UX\", inplace=True)"
   ]
  },
  {
   "cell_type": "code",
   "execution_count": 16,
   "id": "4f9c308c",
   "metadata": {},
   "outputs": [
    {
     "data": {
      "text/plain": [
       "(70609, 2)"
      ]
     },
     "execution_count": 16,
     "metadata": {},
     "output_type": "execute_result"
    }
   ],
   "source": [
    "df2.shape"
   ]
  },
  {
   "cell_type": "code",
   "execution_count": 17,
   "id": "48b49a0a",
   "metadata": {},
   "outputs": [
    {
     "name": "stdout",
     "output_type": "stream",
     "text": [
      "       client_id  clnt_tenure_yr  clnt_tenure_mnth  clnt_age gendr  num_accts  \\\n",
      "4164     7402828             NaN               NaN       NaN   NaN        NaN   \n",
      "8316      355337             NaN               NaN       NaN   NaN        NaN   \n",
      "8677     8412164             NaN               NaN       NaN   NaN        NaN   \n",
      "9583     4666211             8.0             106.0       NaN     F        2.0   \n",
      "13444    2222915             NaN               NaN       NaN   NaN        NaN   \n",
      "18066    4876926             NaN               NaN       NaN   NaN        NaN   \n",
      "25961    5277910             NaN               NaN       NaN   NaN        NaN   \n",
      "28432    7616759             NaN               NaN       NaN   NaN        NaN   \n",
      "35323    8191345             NaN               NaN       NaN   NaN        NaN   \n",
      "43518    1227228             NaN               NaN       NaN   NaN        NaN   \n",
      "46076    8611797             NaN               NaN       NaN   NaN        NaN   \n",
      "47189    5144725             NaN               NaN       NaN   NaN        NaN   \n",
      "49846    1037867             NaN               NaN       NaN   NaN        NaN   \n",
      "63701    1618749             NaN               NaN       NaN   NaN        NaN   \n",
      "66219    6021001             NaN               NaN       NaN   NaN        NaN   \n",
      "\n",
      "            bal  calls_6_mnth  logons_6_mnth  \n",
      "4164        NaN           NaN            NaN  \n",
      "8316        NaN           NaN            NaN  \n",
      "8677        NaN           NaN            NaN  \n",
      "9583   42550.55           4.0            7.0  \n",
      "13444       NaN           NaN            NaN  \n",
      "18066       NaN           NaN            NaN  \n",
      "25961       NaN           NaN            NaN  \n",
      "28432       NaN           NaN            NaN  \n",
      "35323       NaN           NaN            NaN  \n",
      "43518       NaN           NaN            NaN  \n",
      "46076       NaN           NaN            NaN  \n",
      "47189       NaN           NaN            NaN  \n",
      "49846       NaN           NaN            NaN  \n",
      "63701       NaN           NaN            NaN  \n",
      "66219       NaN           NaN            NaN  \n"
     ]
    }
   ],
   "source": [
    "null_rows = df1[df1.isnull().any(axis=1)]\n",
    "print(null_rows)"
   ]
  },
  {
   "cell_type": "code",
   "execution_count": 18,
   "id": "bbb9acc9",
   "metadata": {},
   "outputs": [
    {
     "data": {
      "text/plain": [
       "(70594, 9)"
      ]
     },
     "execution_count": 18,
     "metadata": {},
     "output_type": "execute_result"
    }
   ],
   "source": [
    "df1_dropnulls = df1.dropna()\n",
    "df1_dropnulls.shape"
   ]
  },
  {
   "cell_type": "code",
   "execution_count": 19,
   "id": "75cc84a7",
   "metadata": {},
   "outputs": [],
   "source": [
    "# Safe to drop all null values from the rows\n",
    "\n",
    "df1.dropna(inplace=True)"
   ]
  },
  {
   "cell_type": "code",
   "execution_count": 20,
   "id": "c0accfb7",
   "metadata": {},
   "outputs": [
    {
     "data": {
      "text/plain": [
       "(70594, 9)"
      ]
     },
     "execution_count": 20,
     "metadata": {},
     "output_type": "execute_result"
    }
   ],
   "source": [
    "df1.shape"
   ]
  },
  {
   "cell_type": "code",
   "execution_count": 21,
   "id": "b852044c",
   "metadata": {},
   "outputs": [
    {
     "name": "stdout",
     "output_type": "stream",
     "text": [
      "client_id           0\n",
      "clnt_tenure_yr      0\n",
      "clnt_tenure_mnth    0\n",
      "clnt_age            0\n",
      "gendr               0\n",
      "num_accts           0\n",
      "bal                 0\n",
      "calls_6_mnth        0\n",
      "logons_6_mnth       0\n",
      "dtype: int64\n",
      "client_id    0\n",
      "Variation    0\n",
      "dtype: int64\n",
      "client_id       0\n",
      "visitor_id      0\n",
      "visit_id        0\n",
      "process_step    0\n",
      "date_time       0\n",
      "dtype: int64\n"
     ]
    }
   ],
   "source": [
    "print(df1.isnull().sum())\n",
    "print(df2.isnull().sum())\n",
    "print(df5.isnull().sum())"
   ]
  },
  {
   "cell_type": "code",
   "execution_count": 22,
   "id": "6eac892f",
   "metadata": {},
   "outputs": [
    {
     "data": {
      "text/html": [
       "<div>\n",
       "<style scoped>\n",
       "    .dataframe tbody tr th:only-of-type {\n",
       "        vertical-align: middle;\n",
       "    }\n",
       "\n",
       "    .dataframe tbody tr th {\n",
       "        vertical-align: top;\n",
       "    }\n",
       "\n",
       "    .dataframe thead th {\n",
       "        text-align: right;\n",
       "    }\n",
       "</style>\n",
       "<table border=\"1\" class=\"dataframe\">\n",
       "  <thead>\n",
       "    <tr style=\"text-align: right;\">\n",
       "      <th></th>\n",
       "      <th>client_id</th>\n",
       "      <th>clnt_tenure_yr</th>\n",
       "      <th>clnt_tenure_mnth</th>\n",
       "      <th>clnt_age</th>\n",
       "      <th>num_accts</th>\n",
       "      <th>bal</th>\n",
       "      <th>calls_6_mnth</th>\n",
       "      <th>logons_6_mnth</th>\n",
       "    </tr>\n",
       "  </thead>\n",
       "  <tbody>\n",
       "    <tr>\n",
       "      <th>count</th>\n",
       "      <td>7.059400e+04</td>\n",
       "      <td>70594.000000</td>\n",
       "      <td>70594.000000</td>\n",
       "      <td>70594.000000</td>\n",
       "      <td>70594.000000</td>\n",
       "      <td>7.059400e+04</td>\n",
       "      <td>70594.000000</td>\n",
       "      <td>70594.000000</td>\n",
       "    </tr>\n",
       "    <tr>\n",
       "      <th>mean</th>\n",
       "      <td>5.005026e+06</td>\n",
       "      <td>12.053007</td>\n",
       "      <td>150.659999</td>\n",
       "      <td>46.442240</td>\n",
       "      <td>2.255532</td>\n",
       "      <td>1.474467e+05</td>\n",
       "      <td>3.382469</td>\n",
       "      <td>5.566720</td>\n",
       "    </tr>\n",
       "    <tr>\n",
       "      <th>std</th>\n",
       "      <td>2.877289e+06</td>\n",
       "      <td>6.871850</td>\n",
       "      <td>82.090264</td>\n",
       "      <td>15.591273</td>\n",
       "      <td>0.535000</td>\n",
       "      <td>3.015106e+05</td>\n",
       "      <td>2.236595</td>\n",
       "      <td>2.353296</td>\n",
       "    </tr>\n",
       "    <tr>\n",
       "      <th>min</th>\n",
       "      <td>1.690000e+02</td>\n",
       "      <td>2.000000</td>\n",
       "      <td>33.000000</td>\n",
       "      <td>13.500000</td>\n",
       "      <td>1.000000</td>\n",
       "      <td>1.378942e+04</td>\n",
       "      <td>0.000000</td>\n",
       "      <td>1.000000</td>\n",
       "    </tr>\n",
       "    <tr>\n",
       "      <th>25%</th>\n",
       "      <td>2.519543e+06</td>\n",
       "      <td>6.000000</td>\n",
       "      <td>82.000000</td>\n",
       "      <td>32.500000</td>\n",
       "      <td>2.000000</td>\n",
       "      <td>3.734660e+04</td>\n",
       "      <td>1.000000</td>\n",
       "      <td>4.000000</td>\n",
       "    </tr>\n",
       "    <tr>\n",
       "      <th>50%</th>\n",
       "      <td>5.016974e+06</td>\n",
       "      <td>11.000000</td>\n",
       "      <td>136.000000</td>\n",
       "      <td>47.000000</td>\n",
       "      <td>2.000000</td>\n",
       "      <td>6.333459e+04</td>\n",
       "      <td>3.000000</td>\n",
       "      <td>5.000000</td>\n",
       "    </tr>\n",
       "    <tr>\n",
       "      <th>75%</th>\n",
       "      <td>7.483074e+06</td>\n",
       "      <td>16.000000</td>\n",
       "      <td>192.000000</td>\n",
       "      <td>59.000000</td>\n",
       "      <td>2.000000</td>\n",
       "      <td>1.375461e+05</td>\n",
       "      <td>6.000000</td>\n",
       "      <td>7.000000</td>\n",
       "    </tr>\n",
       "    <tr>\n",
       "      <th>max</th>\n",
       "      <td>9.999839e+06</td>\n",
       "      <td>62.000000</td>\n",
       "      <td>749.000000</td>\n",
       "      <td>96.000000</td>\n",
       "      <td>8.000000</td>\n",
       "      <td>1.632004e+07</td>\n",
       "      <td>7.000000</td>\n",
       "      <td>9.000000</td>\n",
       "    </tr>\n",
       "  </tbody>\n",
       "</table>\n",
       "</div>"
      ],
      "text/plain": [
       "          client_id  clnt_tenure_yr  clnt_tenure_mnth      clnt_age  \\\n",
       "count  7.059400e+04    70594.000000      70594.000000  70594.000000   \n",
       "mean   5.005026e+06       12.053007        150.659999     46.442240   \n",
       "std    2.877289e+06        6.871850         82.090264     15.591273   \n",
       "min    1.690000e+02        2.000000         33.000000     13.500000   \n",
       "25%    2.519543e+06        6.000000         82.000000     32.500000   \n",
       "50%    5.016974e+06       11.000000        136.000000     47.000000   \n",
       "75%    7.483074e+06       16.000000        192.000000     59.000000   \n",
       "max    9.999839e+06       62.000000        749.000000     96.000000   \n",
       "\n",
       "          num_accts           bal  calls_6_mnth  logons_6_mnth  \n",
       "count  70594.000000  7.059400e+04  70594.000000   70594.000000  \n",
       "mean       2.255532  1.474467e+05      3.382469       5.566720  \n",
       "std        0.535000  3.015106e+05      2.236595       2.353296  \n",
       "min        1.000000  1.378942e+04      0.000000       1.000000  \n",
       "25%        2.000000  3.734660e+04      1.000000       4.000000  \n",
       "50%        2.000000  6.333459e+04      3.000000       5.000000  \n",
       "75%        2.000000  1.375461e+05      6.000000       7.000000  \n",
       "max        8.000000  1.632004e+07      7.000000       9.000000  "
      ]
     },
     "execution_count": 22,
     "metadata": {},
     "output_type": "execute_result"
    }
   ],
   "source": [
    "df1.describe()"
   ]
  },
  {
   "cell_type": "code",
   "execution_count": 23,
   "id": "637eab80",
   "metadata": {},
   "outputs": [
    {
     "data": {
      "text/html": [
       "<div>\n",
       "<style scoped>\n",
       "    .dataframe tbody tr th:only-of-type {\n",
       "        vertical-align: middle;\n",
       "    }\n",
       "\n",
       "    .dataframe tbody tr th {\n",
       "        vertical-align: top;\n",
       "    }\n",
       "\n",
       "    .dataframe thead th {\n",
       "        text-align: right;\n",
       "    }\n",
       "</style>\n",
       "<table border=\"1\" class=\"dataframe\">\n",
       "  <thead>\n",
       "    <tr style=\"text-align: right;\">\n",
       "      <th></th>\n",
       "      <th>client_id</th>\n",
       "    </tr>\n",
       "  </thead>\n",
       "  <tbody>\n",
       "    <tr>\n",
       "      <th>count</th>\n",
       "      <td>7.060900e+04</td>\n",
       "    </tr>\n",
       "    <tr>\n",
       "      <th>mean</th>\n",
       "      <td>5.004992e+06</td>\n",
       "    </tr>\n",
       "    <tr>\n",
       "      <th>std</th>\n",
       "      <td>2.877278e+06</td>\n",
       "    </tr>\n",
       "    <tr>\n",
       "      <th>min</th>\n",
       "      <td>1.690000e+02</td>\n",
       "    </tr>\n",
       "    <tr>\n",
       "      <th>25%</th>\n",
       "      <td>2.519329e+06</td>\n",
       "    </tr>\n",
       "    <tr>\n",
       "      <th>50%</th>\n",
       "      <td>5.016978e+06</td>\n",
       "    </tr>\n",
       "    <tr>\n",
       "      <th>75%</th>\n",
       "      <td>7.483085e+06</td>\n",
       "    </tr>\n",
       "    <tr>\n",
       "      <th>max</th>\n",
       "      <td>9.999839e+06</td>\n",
       "    </tr>\n",
       "  </tbody>\n",
       "</table>\n",
       "</div>"
      ],
      "text/plain": [
       "          client_id\n",
       "count  7.060900e+04\n",
       "mean   5.004992e+06\n",
       "std    2.877278e+06\n",
       "min    1.690000e+02\n",
       "25%    2.519329e+06\n",
       "50%    5.016978e+06\n",
       "75%    7.483085e+06\n",
       "max    9.999839e+06"
      ]
     },
     "execution_count": 23,
     "metadata": {},
     "output_type": "execute_result"
    }
   ],
   "source": [
    "df2.describe()"
   ]
  },
  {
   "cell_type": "code",
   "execution_count": 24,
   "id": "b5364e99",
   "metadata": {},
   "outputs": [
    {
     "data": {
      "text/html": [
       "<div>\n",
       "<style scoped>\n",
       "    .dataframe tbody tr th:only-of-type {\n",
       "        vertical-align: middle;\n",
       "    }\n",
       "\n",
       "    .dataframe tbody tr th {\n",
       "        vertical-align: top;\n",
       "    }\n",
       "\n",
       "    .dataframe thead th {\n",
       "        text-align: right;\n",
       "    }\n",
       "</style>\n",
       "<table border=\"1\" class=\"dataframe\">\n",
       "  <thead>\n",
       "    <tr style=\"text-align: right;\">\n",
       "      <th></th>\n",
       "      <th>client_id</th>\n",
       "    </tr>\n",
       "  </thead>\n",
       "  <tbody>\n",
       "    <tr>\n",
       "      <th>count</th>\n",
       "      <td>7.554050e+05</td>\n",
       "    </tr>\n",
       "    <tr>\n",
       "      <th>mean</th>\n",
       "      <td>5.013632e+06</td>\n",
       "    </tr>\n",
       "    <tr>\n",
       "      <th>std</th>\n",
       "      <td>2.879152e+06</td>\n",
       "    </tr>\n",
       "    <tr>\n",
       "      <th>min</th>\n",
       "      <td>1.690000e+02</td>\n",
       "    </tr>\n",
       "    <tr>\n",
       "      <th>25%</th>\n",
       "      <td>2.519882e+06</td>\n",
       "    </tr>\n",
       "    <tr>\n",
       "      <th>50%</th>\n",
       "      <td>5.033441e+06</td>\n",
       "    </tr>\n",
       "    <tr>\n",
       "      <th>75%</th>\n",
       "      <td>7.496063e+06</td>\n",
       "    </tr>\n",
       "    <tr>\n",
       "      <th>max</th>\n",
       "      <td>9.999875e+06</td>\n",
       "    </tr>\n",
       "  </tbody>\n",
       "</table>\n",
       "</div>"
      ],
      "text/plain": [
       "          client_id\n",
       "count  7.554050e+05\n",
       "mean   5.013632e+06\n",
       "std    2.879152e+06\n",
       "min    1.690000e+02\n",
       "25%    2.519882e+06\n",
       "50%    5.033441e+06\n",
       "75%    7.496063e+06\n",
       "max    9.999875e+06"
      ]
     },
     "execution_count": 24,
     "metadata": {},
     "output_type": "execute_result"
    }
   ],
   "source": [
    "df5.describe()"
   ]
  },
  {
   "cell_type": "code",
   "execution_count": 25,
   "id": "18c0247a",
   "metadata": {},
   "outputs": [
    {
     "name": "stdout",
     "output_type": "stream",
     "text": [
      "client_id             int64\n",
      "clnt_tenure_yr      float64\n",
      "clnt_tenure_mnth    float64\n",
      "clnt_age            float64\n",
      "gendr                object\n",
      "num_accts           float64\n",
      "bal                 float64\n",
      "calls_6_mnth        float64\n",
      "logons_6_mnth       float64\n",
      "dtype: object\n"
     ]
    }
   ],
   "source": [
    "print(df1.dtypes)"
   ]
  },
  {
   "cell_type": "code",
   "execution_count": 26,
   "id": "f974a3da",
   "metadata": {},
   "outputs": [
    {
     "name": "stdout",
     "output_type": "stream",
     "text": [
      "client_id     int64\n",
      "Variation    object\n",
      "dtype: object\n"
     ]
    }
   ],
   "source": [
    "print(df2.dtypes)"
   ]
  },
  {
   "cell_type": "code",
   "execution_count": 27,
   "id": "6bd6b3ba",
   "metadata": {},
   "outputs": [
    {
     "name": "stdout",
     "output_type": "stream",
     "text": [
      "client_id        int64\n",
      "visitor_id      object\n",
      "visit_id        object\n",
      "process_step    object\n",
      "date_time       object\n",
      "dtype: object\n"
     ]
    }
   ],
   "source": [
    "print(df5.dtypes)"
   ]
  },
  {
   "cell_type": "code",
   "execution_count": 28,
   "id": "fc67cf9b",
   "metadata": {},
   "outputs": [
    {
     "data": {
      "text/plain": [
       "client_id           70594\n",
       "bal                 70327\n",
       "clnt_tenure_mnth      482\n",
       "clnt_age              165\n",
       "clnt_tenure_yr         54\n",
       "logons_6_mnth           9\n",
       "num_accts               8\n",
       "calls_6_mnth            8\n",
       "dtype: int64"
      ]
     },
     "execution_count": 28,
     "metadata": {},
     "output_type": "execute_result"
    }
   ],
   "source": [
    "df1.select_dtypes(\"number\").nunique().sort_values(ascending=False)"
   ]
  },
  {
   "cell_type": "code",
   "execution_count": 29,
   "id": "d6b01d9e",
   "metadata": {},
   "outputs": [
    {
     "data": {
      "text/plain": [
       "client_id    70609\n",
       "dtype: int64"
      ]
     },
     "execution_count": 29,
     "metadata": {},
     "output_type": "execute_result"
    }
   ],
   "source": [
    "df2.select_dtypes(\"number\").nunique().sort_values(ascending=False)"
   ]
  },
  {
   "cell_type": "code",
   "execution_count": 30,
   "id": "3f8b01b0",
   "metadata": {},
   "outputs": [
    {
     "data": {
      "text/plain": [
       "client_id    120157\n",
       "dtype: int64"
      ]
     },
     "execution_count": 30,
     "metadata": {},
     "output_type": "execute_result"
    }
   ],
   "source": [
    "df5.select_dtypes(\"number\").nunique().sort_values(ascending=False)"
   ]
  },
  {
   "cell_type": "code",
   "execution_count": 31,
   "id": "7c37e0dc",
   "metadata": {},
   "outputs": [
    {
     "data": {
      "text/plain": [
       "gendr    4\n",
       "dtype: int64"
      ]
     },
     "execution_count": 31,
     "metadata": {},
     "output_type": "execute_result"
    }
   ],
   "source": [
    "df1.select_dtypes(\"object\").nunique().sort_values(ascending=False)"
   ]
  },
  {
   "cell_type": "code",
   "execution_count": 32,
   "id": "4933ac61",
   "metadata": {},
   "outputs": [
    {
     "data": {
      "text/plain": [
       "Variation    3\n",
       "dtype: int64"
      ]
     },
     "execution_count": 32,
     "metadata": {},
     "output_type": "execute_result"
    }
   ],
   "source": [
    "df2.select_dtypes(\"object\").nunique().sort_values(ascending=False)"
   ]
  },
  {
   "cell_type": "code",
   "execution_count": 33,
   "id": "d4cb5fc8",
   "metadata": {},
   "outputs": [
    {
     "data": {
      "text/plain": [
       "date_time       629363\n",
       "visit_id        158095\n",
       "visitor_id      130236\n",
       "process_step         5\n",
       "dtype: int64"
      ]
     },
     "execution_count": 33,
     "metadata": {},
     "output_type": "execute_result"
    }
   ],
   "source": [
    "df5.select_dtypes(\"object\").nunique().sort_values(ascending=False)"
   ]
  },
  {
   "cell_type": "code",
   "execution_count": 34,
   "id": "c3951714",
   "metadata": {},
   "outputs": [
    {
     "name": "stdout",
     "output_type": "stream",
     "text": [
      "gendr\n",
      "U    24122\n",
      "M    23724\n",
      "F    22745\n",
      "X        3\n",
      "Name: count, dtype: int64\n"
     ]
    }
   ],
   "source": [
    "frequency_table = df1[\"gendr\"].value_counts()\n",
    "print(frequency_table)"
   ]
  },
  {
   "cell_type": "code",
   "execution_count": 35,
   "id": "a7b31280",
   "metadata": {},
   "outputs": [],
   "source": [
    "# assume U = undefined - replace the X values with U\n",
    "\n",
    "df1['gendr'] = df1['gendr'].replace({'X': 'U'})"
   ]
  },
  {
   "cell_type": "code",
   "execution_count": 36,
   "id": "8e71791a",
   "metadata": {},
   "outputs": [
    {
     "name": "stdout",
     "output_type": "stream",
     "text": [
      "gendr\n",
      "U    24125\n",
      "M    23724\n",
      "F    22745\n",
      "Name: count, dtype: int64\n"
     ]
    }
   ],
   "source": [
    "frequency_table = df1[\"gendr\"].value_counts()\n",
    "print(frequency_table)"
   ]
  },
  {
   "cell_type": "code",
   "execution_count": 37,
   "id": "f403561e",
   "metadata": {},
   "outputs": [
    {
     "data": {
      "text/plain": [
       "client_id           70594\n",
       "bal                 70327\n",
       "clnt_tenure_mnth      482\n",
       "clnt_age              165\n",
       "clnt_tenure_yr         54\n",
       "logons_6_mnth           9\n",
       "num_accts               8\n",
       "calls_6_mnth            8\n",
       "dtype: int64"
      ]
     },
     "execution_count": 37,
     "metadata": {},
     "output_type": "execute_result"
    }
   ],
   "source": [
    "# Further EDA df1\n",
    "\n",
    "df1.select_dtypes(\"number\").nunique().sort_values(ascending=False)"
   ]
  },
  {
   "cell_type": "code",
   "execution_count": 38,
   "id": "95694ef2",
   "metadata": {},
   "outputs": [
    {
     "data": {
      "text/plain": [
       "Index(['gendr'], dtype='object')"
      ]
     },
     "execution_count": 38,
     "metadata": {},
     "output_type": "execute_result"
    }
   ],
   "source": [
    "df1.select_dtypes(\"object\").columns"
   ]
  },
  {
   "cell_type": "code",
   "execution_count": 39,
   "id": "c0d29793",
   "metadata": {},
   "outputs": [
    {
     "data": {
      "text/plain": [
       "(logons_6_mnth\n",
       " 9.0    12350\n",
       " 3.0    10243\n",
       " 4.0    10220\n",
       " 7.0     9892\n",
       " 5.0     9254\n",
       " 6.0     7878\n",
       " 8.0     4810\n",
       " 2.0     3009\n",
       " 1.0     2938\n",
       " Name: count, dtype: int64,\n",
       " logons_6_mnth\n",
       " 9.0    17.494405\n",
       " 3.0    14.509732\n",
       " 4.0    14.477151\n",
       " 7.0    14.012522\n",
       " 5.0    13.108763\n",
       " 6.0    11.159589\n",
       " 8.0     6.813610\n",
       " 2.0     4.262402\n",
       " 1.0     4.161827\n",
       " Name: proportion, dtype: float64)"
      ]
     },
     "execution_count": 39,
     "metadata": {},
     "output_type": "execute_result"
    }
   ],
   "source": [
    "frequency_table = df1[\"logons_6_mnth\"].value_counts()\n",
    "\n",
    "proportion_table = df1[\"logons_6_mnth\"].value_counts(normalize = True)\n",
    "\n",
    "frequency_table, proportion_table*100"
   ]
  },
  {
   "cell_type": "code",
   "execution_count": 40,
   "id": "80b0c7a1",
   "metadata": {},
   "outputs": [
    {
     "name": "stderr",
     "output_type": "stream",
     "text": [
      "C:\\Users\\ShannonKnight\\AppData\\Local\\Temp\\ipykernel_10004\\2282709079.py:1: FutureWarning: \n",
      "\n",
      "Passing `palette` without assigning `hue` is deprecated and will be removed in v0.14.0. Assign the `x` variable to `hue` and set `legend=False` for the same effect.\n",
      "\n",
      "  ax=sns.barplot(x=frequency_table.index, y=frequency_table.values, palette=\"Set3\")\n"
     ]
    },
    {
     "data": {
      "image/png": "[encoded data removed]",
      "text/plain": [
       "<Figure size 640x480 with 1 Axes>"
      ]
     },
     "metadata": {},
     "output_type": "display_data"
    }
   ],
   "source": [
    "ax=sns.barplot(x=frequency_table.index, y=frequency_table.values, palette=\"Set3\")"
   ]
  },
  {
   "cell_type": "code",
   "execution_count": 41,
   "id": "eb9f4c96",
   "metadata": {},
   "outputs": [
    {
     "data": {
      "text/plain": [
       "(num_accts\n",
       " 2.0    55496\n",
       " 3.0    12529\n",
       " 4.0     2241\n",
       " 5.0      284\n",
       " 6.0       33\n",
       " 7.0        8\n",
       " 1.0        2\n",
       " 8.0        1\n",
       " Name: count, dtype: int64,\n",
       " num_accts\n",
       " 2.0    78.612913\n",
       " 3.0    17.747967\n",
       " 4.0     3.174491\n",
       " 5.0     0.402300\n",
       " 6.0     0.046746\n",
       " 7.0     0.011332\n",
       " 1.0     0.002833\n",
       " 8.0     0.001417\n",
       " Name: proportion, dtype: float64)"
      ]
     },
     "execution_count": 41,
     "metadata": {},
     "output_type": "execute_result"
    }
   ],
   "source": [
    "frequency_table = df1[\"num_accts\"].value_counts()\n",
    "\n",
    "proportion_table = df1[\"num_accts\"].value_counts(normalize = True)\n",
    "\n",
    "frequency_table, proportion_table*100"
   ]
  },
  {
   "cell_type": "code",
   "execution_count": 42,
   "id": "51bd7298",
   "metadata": {},
   "outputs": [
    {
     "name": "stderr",
     "output_type": "stream",
     "text": [
      "C:\\Users\\ShannonKnight\\AppData\\Local\\Temp\\ipykernel_10004\\2282709079.py:1: FutureWarning: \n",
      "\n",
      "Passing `palette` without assigning `hue` is deprecated and will be removed in v0.14.0. Assign the `x` variable to `hue` and set `legend=False` for the same effect.\n",
      "\n",
      "  ax=sns.barplot(x=frequency_table.index, y=frequency_table.values, palette=\"Set3\")\n"
     ]
    },
    {
     "data": {
      "image/png": "[encoded data removed]",
      "text/plain": [
       "<Figure size 640x480 with 1 Axes>"
      ]
     },
     "metadata": {},
     "output_type": "display_data"
    }
   ],
   "source": [
    "ax=sns.barplot(x=frequency_table.index, y=frequency_table.values, palette=\"Set3\")"
   ]
  },
  {
   "cell_type": "code",
   "execution_count": 43,
   "id": "448976bf",
   "metadata": {},
   "outputs": [
    {
     "data": {
      "text/plain": [
       "(calls_6_mnth\n",
       " 6.0    14112\n",
       " 1.0    11016\n",
       " 2.0    10252\n",
       " 3.0     8752\n",
       " 0.0     7732\n",
       " 4.0     7174\n",
       " 5.0     6627\n",
       " 7.0     4929\n",
       " Name: count, dtype: int64,\n",
       " calls_6_mnth\n",
       " 6.0    19.990367\n",
       " 1.0    15.604726\n",
       " 2.0    14.522481\n",
       " 3.0    12.397654\n",
       " 0.0    10.952772\n",
       " 4.0    10.162337\n",
       " 5.0     9.387483\n",
       " 7.0     6.982180\n",
       " Name: proportion, dtype: float64)"
      ]
     },
     "execution_count": 43,
     "metadata": {},
     "output_type": "execute_result"
    }
   ],
   "source": [
    "frequency_table = df1[\"calls_6_mnth\"].value_counts()\n",
    "\n",
    "proportion_table = df1[\"calls_6_mnth\"].value_counts(normalize = True)\n",
    "\n",
    "frequency_table, proportion_table*100"
   ]
  },
  {
   "cell_type": "code",
   "execution_count": 44,
   "id": "4b241310",
   "metadata": {},
   "outputs": [
    {
     "name": "stderr",
     "output_type": "stream",
     "text": [
      "C:\\Users\\ShannonKnight\\AppData\\Local\\Temp\\ipykernel_10004\\2282709079.py:1: FutureWarning: \n",
      "\n",
      "Passing `palette` without assigning `hue` is deprecated and will be removed in v0.14.0. Assign the `x` variable to `hue` and set `legend=False` for the same effect.\n",
      "\n",
      "  ax=sns.barplot(x=frequency_table.index, y=frequency_table.values, palette=\"Set3\")\n"
     ]
    },
    {
     "data": {
      "image/png": "[encoded data removed]",
      "text/plain": [
       "<Figure size 640x480 with 1 Axes>"
      ]
     },
     "metadata": {},
     "output_type": "display_data"
    }
   ],
   "source": [
    "ax=sns.barplot(x=frequency_table.index, y=frequency_table.values, palette=\"Set3\")"
   ]
  },
  {
   "cell_type": "code",
   "execution_count": 45,
   "id": "08ee0b12",
   "metadata": {},
   "outputs": [
    {
     "data": {
      "text/plain": [
       "<Axes: xlabel='clnt_age', ylabel='Count'>"
      ]
     },
     "execution_count": 45,
     "metadata": {},
     "output_type": "execute_result"
    },
    {
     "data": {
      "image/png": "[encoded data removed]",
      "text/plain": [
       "<Figure size 640x480 with 1 Axes>"
      ]
     },
     "metadata": {},
     "output_type": "display_data"
    }
   ],
   "source": [
    "sns.histplot(df1[\"clnt_age\"], kde = True, bins =30, color=\"salmon\")"
   ]
  },
  {
   "cell_type": "code",
   "execution_count": 46,
   "id": "5f6d30ee",
   "metadata": {},
   "outputs": [
    {
     "data": {
      "text/plain": [
       "<Axes: xlabel='clnt_tenure_yr', ylabel='Count'>"
      ]
     },
     "execution_count": 46,
     "metadata": {},
     "output_type": "execute_result"
    },
    {
     "data": {
      "image/png": "[encoded data removed]",
      "text/plain": [
       "<Figure size 640x480 with 1 Axes>"
      ]
     },
     "metadata": {},
     "output_type": "display_data"
    }
   ],
   "source": [
    "sns.histplot(df1[\"clnt_tenure_yr\"], kde = True, bins =30, color=\"salmon\")"
   ]
  },
  {
   "cell_type": "code",
   "execution_count": 47,
   "id": "1b78e0b5",
   "metadata": {},
   "outputs": [
    {
     "data": {
      "text/plain": [
       "<Axes: xlabel='bal', ylabel='Count'>"
      ]
     },
     "execution_count": 47,
     "metadata": {},
     "output_type": "execute_result"
    },
    {
     "data": {
      "image/png": "[encoded data removed]",
      "text/plain": [
       "<Figure size 640x480 with 1 Axes>"
      ]
     },
     "metadata": {},
     "output_type": "display_data"
    }
   ],
   "source": [
    "sns.histplot(df1[\"bal\"], kde = True, bins =100, color=\"salmon\")"
   ]
  },
  {
   "cell_type": "code",
   "execution_count": 48,
   "id": "0c63fb92",
   "metadata": {},
   "outputs": [
    {
     "data": {
      "text/html": [
       "<div>\n",
       "<style scoped>\n",
       "    .dataframe tbody tr th:only-of-type {\n",
       "        vertical-align: middle;\n",
       "    }\n",
       "\n",
       "    .dataframe tbody tr th {\n",
       "        vertical-align: top;\n",
       "    }\n",
       "\n",
       "    .dataframe thead th {\n",
       "        text-align: right;\n",
       "    }\n",
       "</style>\n",
       "<table border=\"1\" class=\"dataframe\">\n",
       "  <thead>\n",
       "    <tr style=\"text-align: right;\">\n",
       "      <th></th>\n",
       "      <th>client_id</th>\n",
       "      <th>clnt_tenure_yr</th>\n",
       "      <th>clnt_tenure_mnth</th>\n",
       "      <th>clnt_age</th>\n",
       "      <th>num_accts</th>\n",
       "      <th>bal</th>\n",
       "      <th>calls_6_mnth</th>\n",
       "      <th>logons_6_mnth</th>\n",
       "    </tr>\n",
       "    <tr>\n",
       "      <th>gendr</th>\n",
       "      <th></th>\n",
       "      <th></th>\n",
       "      <th></th>\n",
       "      <th></th>\n",
       "      <th></th>\n",
       "      <th></th>\n",
       "      <th></th>\n",
       "      <th></th>\n",
       "    </tr>\n",
       "  </thead>\n",
       "  <tbody>\n",
       "    <tr>\n",
       "      <th>F</th>\n",
       "      <td>22745</td>\n",
       "      <td>22745</td>\n",
       "      <td>22745</td>\n",
       "      <td>22745</td>\n",
       "      <td>22745</td>\n",
       "      <td>22745</td>\n",
       "      <td>22745</td>\n",
       "      <td>22745</td>\n",
       "    </tr>\n",
       "    <tr>\n",
       "      <th>M</th>\n",
       "      <td>23724</td>\n",
       "      <td>23724</td>\n",
       "      <td>23724</td>\n",
       "      <td>23724</td>\n",
       "      <td>23724</td>\n",
       "      <td>23724</td>\n",
       "      <td>23724</td>\n",
       "      <td>23724</td>\n",
       "    </tr>\n",
       "    <tr>\n",
       "      <th>U</th>\n",
       "      <td>24125</td>\n",
       "      <td>24125</td>\n",
       "      <td>24125</td>\n",
       "      <td>24125</td>\n",
       "      <td>24125</td>\n",
       "      <td>24125</td>\n",
       "      <td>24125</td>\n",
       "      <td>24125</td>\n",
       "    </tr>\n",
       "  </tbody>\n",
       "</table>\n",
       "</div>"
      ],
      "text/plain": [
       "       client_id  clnt_tenure_yr  clnt_tenure_mnth  clnt_age  num_accts  \\\n",
       "gendr                                                                     \n",
       "F          22745           22745             22745     22745      22745   \n",
       "M          23724           23724             23724     23724      23724   \n",
       "U          24125           24125             24125     24125      24125   \n",
       "\n",
       "         bal  calls_6_mnth  logons_6_mnth  \n",
       "gendr                                      \n",
       "F      22745         22745          22745  \n",
       "M      23724         23724          23724  \n",
       "U      24125         24125          24125  "
      ]
     },
     "execution_count": 48,
     "metadata": {},
     "output_type": "execute_result"
    }
   ],
   "source": [
    "df1.groupby('gendr').count()"
   ]
  },
  {
   "cell_type": "code",
   "execution_count": 49,
   "id": "f1225aab",
   "metadata": {},
   "outputs": [
    {
     "data": {
      "image/png": "[encoded data removed]",
      "text/plain": [
       "<Figure size 640x480 with 1 Axes>"
      ]
     },
     "metadata": {},
     "output_type": "display_data"
    }
   ],
   "source": [
    "df1['gendr'].value_counts().plot.pie(autopct='%1.1f%%',startangle=90,colors=sns.color_palette(\"Set3\"));"
   ]
  },
  {
   "cell_type": "code",
   "execution_count": 50,
   "id": "362f5e20",
   "metadata": {},
   "outputs": [],
   "source": [
    "# further EDA df2"
   ]
  },
  {
   "cell_type": "code",
   "execution_count": 51,
   "id": "a66d63e9",
   "metadata": {},
   "outputs": [
    {
     "data": {
      "text/html": [
       "<div>\n",
       "<style scoped>\n",
       "    .dataframe tbody tr th:only-of-type {\n",
       "        vertical-align: middle;\n",
       "    }\n",
       "\n",
       "    .dataframe tbody tr th {\n",
       "        vertical-align: top;\n",
       "    }\n",
       "\n",
       "    .dataframe thead th {\n",
       "        text-align: right;\n",
       "    }\n",
       "</style>\n",
       "<table border=\"1\" class=\"dataframe\">\n",
       "  <thead>\n",
       "    <tr style=\"text-align: right;\">\n",
       "      <th></th>\n",
       "      <th>client_id</th>\n",
       "    </tr>\n",
       "    <tr>\n",
       "      <th>Variation</th>\n",
       "      <th></th>\n",
       "    </tr>\n",
       "  </thead>\n",
       "  <tbody>\n",
       "    <tr>\n",
       "      <th>Control</th>\n",
       "      <td>23532</td>\n",
       "    </tr>\n",
       "    <tr>\n",
       "      <th>Not part of UX</th>\n",
       "      <td>20109</td>\n",
       "    </tr>\n",
       "    <tr>\n",
       "      <th>Test</th>\n",
       "      <td>26968</td>\n",
       "    </tr>\n",
       "  </tbody>\n",
       "</table>\n",
       "</div>"
      ],
      "text/plain": [
       "                client_id\n",
       "Variation                \n",
       "Control             23532\n",
       "Not part of UX      20109\n",
       "Test                26968"
      ]
     },
     "execution_count": 51,
     "metadata": {},
     "output_type": "execute_result"
    }
   ],
   "source": [
    "df2.groupby(\"Variation\").count()"
   ]
  },
  {
   "cell_type": "code",
   "execution_count": 52,
   "id": "0c1ff3fa",
   "metadata": {},
   "outputs": [
    {
     "data": {
      "image/png": "[encoded data removed]",
      "text/plain": [
       "<Figure size 640x480 with 1 Axes>"
      ]
     },
     "metadata": {},
     "output_type": "display_data"
    }
   ],
   "source": [
    "df2['Variation'].value_counts().plot.pie(autopct='%1.1f%%',startangle=90,colors=sns.color_palette(\"Set3\"));"
   ]
  },
  {
   "cell_type": "code",
   "execution_count": 53,
   "id": "08feed8f",
   "metadata": {},
   "outputs": [
    {
     "data": {
      "text/html": [
       "<div>\n",
       "<style scoped>\n",
       "    .dataframe tbody tr th:only-of-type {\n",
       "        vertical-align: middle;\n",
       "    }\n",
       "\n",
       "    .dataframe tbody tr th {\n",
       "        vertical-align: top;\n",
       "    }\n",
       "\n",
       "    .dataframe thead th {\n",
       "        text-align: right;\n",
       "    }\n",
       "</style>\n",
       "<table border=\"1\" class=\"dataframe\">\n",
       "  <thead>\n",
       "    <tr style=\"text-align: right;\">\n",
       "      <th></th>\n",
       "      <th>client_id</th>\n",
       "      <th>visitor_id</th>\n",
       "      <th>visit_id</th>\n",
       "      <th>date_time</th>\n",
       "    </tr>\n",
       "    <tr>\n",
       "      <th>process_step</th>\n",
       "      <th></th>\n",
       "      <th></th>\n",
       "      <th></th>\n",
       "      <th></th>\n",
       "    </tr>\n",
       "  </thead>\n",
       "  <tbody>\n",
       "    <tr>\n",
       "      <th>confirm</th>\n",
       "      <td>102963</td>\n",
       "      <td>102963</td>\n",
       "      <td>102963</td>\n",
       "      <td>102963</td>\n",
       "    </tr>\n",
       "    <tr>\n",
       "      <th>start</th>\n",
       "      <td>243945</td>\n",
       "      <td>243945</td>\n",
       "      <td>243945</td>\n",
       "      <td>243945</td>\n",
       "    </tr>\n",
       "    <tr>\n",
       "      <th>step_1</th>\n",
       "      <td>163193</td>\n",
       "      <td>163193</td>\n",
       "      <td>163193</td>\n",
       "      <td>163193</td>\n",
       "    </tr>\n",
       "    <tr>\n",
       "      <th>step_2</th>\n",
       "      <td>133062</td>\n",
       "      <td>133062</td>\n",
       "      <td>133062</td>\n",
       "      <td>133062</td>\n",
       "    </tr>\n",
       "    <tr>\n",
       "      <th>step_3</th>\n",
       "      <td>112242</td>\n",
       "      <td>112242</td>\n",
       "      <td>112242</td>\n",
       "      <td>112242</td>\n",
       "    </tr>\n",
       "  </tbody>\n",
       "</table>\n",
       "</div>"
      ],
      "text/plain": [
       "              client_id  visitor_id  visit_id  date_time\n",
       "process_step                                            \n",
       "confirm          102963      102963    102963     102963\n",
       "start            243945      243945    243945     243945\n",
       "step_1           163193      163193    163193     163193\n",
       "step_2           133062      133062    133062     133062\n",
       "step_3           112242      112242    112242     112242"
      ]
     },
     "execution_count": 53,
     "metadata": {},
     "output_type": "execute_result"
    }
   ],
   "source": [
    "df5.groupby(\"process_step\").count()"
   ]
  },
  {
   "cell_type": "code",
   "execution_count": 54,
   "id": "07c0bd55",
   "metadata": {},
   "outputs": [
    {
     "data": {
      "image/png": "[encoded data removed]",
      "text/plain": [
       "<Figure size 640x480 with 1 Axes>"
      ]
     },
     "metadata": {},
     "output_type": "display_data"
    }
   ],
   "source": [
    "df5['process_step'].value_counts().plot.pie(autopct='%1.1f%%',startangle=90,colors=sns.color_palette(\"Set3\"));"
   ]
  },
  {
   "cell_type": "code",
   "execution_count": 55,
   "id": "bc104e00",
   "metadata": {},
   "outputs": [
    {
     "data": {
      "text/plain": [
       "'2017-03-15 00:03:03'"
      ]
     },
     "execution_count": 55,
     "metadata": {},
     "output_type": "execute_result"
    }
   ],
   "source": [
    "df5[\"date_time\"].min()"
   ]
  },
  {
   "cell_type": "code",
   "execution_count": 56,
   "id": "5c17efc5",
   "metadata": {},
   "outputs": [
    {
     "data": {
      "text/plain": [
       "'2017-06-20 23:59:57'"
      ]
     },
     "execution_count": 56,
     "metadata": {},
     "output_type": "execute_result"
    }
   ],
   "source": [
    "df5[\"date_time\"].max()"
   ]
  },
  {
   "cell_type": "code",
   "execution_count": 57,
   "id": "89766ac6",
   "metadata": {},
   "outputs": [],
   "source": [
    "# further EDA df5\n",
    "\n",
    "df5['date_time'] = pd.to_datetime(df5['date_time'])\n",
    "\n",
    "df5['year_month'] = df5['date_time'].dt.strftime(\"%Y%m\")"
   ]
  },
  {
   "cell_type": "code",
   "execution_count": 58,
   "id": "b10b7d2c",
   "metadata": {},
   "outputs": [
    {
     "name": "stdout",
     "output_type": "stream",
     "text": [
      "year_month\n",
      "201703     83036\n",
      "201704    260105\n",
      "201705    164319\n",
      "201706    247945\n",
      "Name: count, dtype: int64\n"
     ]
    }
   ],
   "source": [
    "frequency_table = df5[\"year_month\"].value_counts()\n",
    "frequency_table = frequency_table.sort_index()\n",
    "print(frequency_table)"
   ]
  },
  {
   "cell_type": "code",
   "execution_count": 59,
   "id": "e8f1d049",
   "metadata": {},
   "outputs": [
    {
     "name": "stderr",
     "output_type": "stream",
     "text": [
      "C:\\Users\\ShannonKnight\\AppData\\Local\\Temp\\ipykernel_10004\\2282709079.py:1: FutureWarning: \n",
      "\n",
      "Passing `palette` without assigning `hue` is deprecated and will be removed in v0.14.0. Assign the `x` variable to `hue` and set `legend=False` for the same effect.\n",
      "\n",
      "  ax=sns.barplot(x=frequency_table.index, y=frequency_table.values, palette=\"Set3\")\n"
     ]
    },
    {
     "data": {
      "image/png": "[encoded data removed]",
      "text/plain": [
       "<Figure size 640x480 with 1 Axes>"
      ]
     },
     "metadata": {},
     "output_type": "display_data"
    }
   ],
   "source": [
    "ax=sns.barplot(x=frequency_table.index, y=frequency_table.values, palette=\"Set3\")"
   ]
  },
  {
   "cell_type": "code",
   "execution_count": 60,
   "id": "8c85def1",
   "metadata": {},
   "outputs": [],
   "source": [
    "# Full path to the folder where you want to save the CSV file\n",
    "folder_path = r\"C:\\Users\\ShannonKnight\\OneDrive - PPO Serve\\Documents\\ironhack\\Week 5\\project3_CX_Vanguard\\data\\cleaned\"\n",
    "\n",
    "df1.to_csv(folder_path + '\\\\cleaned_data1.csv', index=False)\n",
    "df2.to_csv(folder_path + '\\\\cleaned_data2.csv', index=False)\n",
    "df5.to_csv(folder_path + '\\\\cleaned_data3.csv', index=False)"
   ]
  },
  {
   "cell_type": "code",
   "execution_count": null,
   "id": "60b17987",
   "metadata": {},
   "outputs": [],
   "source": []
  }
 ],
 "metadata": {
  "kernelspec": {
   "display_name": "project3_environment",
   "language": "python",
   "name": "project3_environment"
  },
  "language_info": {
   "codemirror_mode": {
    "name": "ipython",
    "version": 3
   },
   "file_extension": ".py",
   "mimetype": "text/x-python",
   "name": "python",
   "nbconvert_exporter": "python",
   "pygments_lexer": "ipython3",
   "version": "3.12.2"
  }
 },
 "nbformat": 4,
 "nbformat_minor": 5
}
